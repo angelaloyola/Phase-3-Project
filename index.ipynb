{
 "cells": [
  {
   "cell_type": "markdown",
   "id": "a808402c",
   "metadata": {},
   "source": [
    "<img src=\"images/clean_water.jpg\" alt=\"example\" style=\"max-width:1000px; max-height:500px;\">"
   ]
  },
  {
   "cell_type": "markdown",
   "id": "40a22d86",
   "metadata": {},
   "source": [
    "# Tanzania Water Pump Classification Analysis\n",
    "* Author: Angela Loyola\n",
    "* Student pace: Self-Paced\n",
    "* Instructor name: Mark Barbour"
   ]
  },
  {
   "cell_type": "markdown",
   "id": "8a42447c",
   "metadata": {},
   "source": [
    "## Overview & Business Problem"
   ]
  },
  {
   "cell_type": "markdown",
   "id": "3e7f78f0",
   "metadata": {},
   "source": [
    "Tanzania is a developing country that struggles with providing clean water to its population of over 57 million. While many water points are already established in the country, some are in dire need of repair. \n",
    "\n",
    "This project was conducted for the NGO <i> AquaRise Tanzania </i>. AquaRise is dedicated to uplifting rural Tanzanian communities by restoring and maintaining water pumps to enhance access to safe drinking water. They collaborate with local water authorities, conduct community training on pump maintenance, and organize awareness campaigns on water conservation.\n",
    "\n",
    "This report seeks to leverage predictive analysis to identify wells requiring repairs. If AquaRise can accurately predict the locations in need of attention, they can optimize resource allocation and develop more effective, long-term strategies.\n",
    "\n",
    "The goal is to target wells for maintenance before they face critical issues, preventing potential water crises and ensuring sustainable access to clean water for the communities they serve."
   ]
  },
  {
   "cell_type": "markdown",
   "id": "b0c368bc",
   "metadata": {},
   "source": [
    "## Data Understanding and Exploration\n",
    "\n",
    "The data comes from two files including: \n",
    "1. Multiple independent variables with water pump ID \n",
    "2. Status of the water pump with an ID\n",
    "\n",
    "After joining these tables, there were 39 potential independent variables that could be leveraged in the classifier. An overview of the independent variables showed that most were categorical variables -- indicating that processing would need to be done to include in the classifier. "
   ]
  },
  {
   "cell_type": "code",
   "execution_count": 1,
   "id": "d452f146",
   "metadata": {},
   "outputs": [],
   "source": [
    "### Importing all packages and libaries \n",
    "import pandas as pd\n",
    "import numpy as np\n",
    "import statsmodels.api as sm\n",
    "import matplotlib.pyplot as plt\n",
    "from sklearn.preprocessing import PolynomialFeatures\n",
    "from matplotlib.dates import YearLocator, DateFormatter\n",
    "import matplotlib.ticker as ticker\n",
    "from sklearn.model_selection import train_test_split, GridSearchCV, cross_val_score\n",
    "from sklearn.metrics import accuracy_score, confusion_matrix, classification_report, roc_curve, auc\n",
    "from sklearn.tree import DecisionTreeClassifier\n",
    "from sklearn.ensemble import BaggingClassifier, RandomForestClassifier"
   ]
  },
  {
   "cell_type": "markdown",
   "id": "190c205d",
   "metadata": {},
   "source": [
    "#### Loading Data and Preview"
   ]
  },
  {
   "cell_type": "code",
   "execution_count": 2,
   "id": "c7f831b9",
   "metadata": {},
   "outputs": [],
   "source": [
    "df_y = pd.read_csv('data/status_group.csv')\n",
    "df_X = pd.read_csv('data/independent_variables.csv')"
   ]
  },
  {
   "cell_type": "code",
   "execution_count": 3,
   "id": "596d3cf9",
   "metadata": {},
   "outputs": [
    {
     "data": {
      "text/html": [
       "<div>\n",
       "<style scoped>\n",
       "    .dataframe tbody tr th:only-of-type {\n",
       "        vertical-align: middle;\n",
       "    }\n",
       "\n",
       "    .dataframe tbody tr th {\n",
       "        vertical-align: top;\n",
       "    }\n",
       "\n",
       "    .dataframe thead th {\n",
       "        text-align: right;\n",
       "    }\n",
       "</style>\n",
       "<table border=\"1\" class=\"dataframe\">\n",
       "  <thead>\n",
       "    <tr style=\"text-align: right;\">\n",
       "      <th></th>\n",
       "      <th>id</th>\n",
       "      <th>status_group</th>\n",
       "    </tr>\n",
       "  </thead>\n",
       "  <tbody>\n",
       "    <tr>\n",
       "      <th>0</th>\n",
       "      <td>69572</td>\n",
       "      <td>functional</td>\n",
       "    </tr>\n",
       "    <tr>\n",
       "      <th>1</th>\n",
       "      <td>8776</td>\n",
       "      <td>functional</td>\n",
       "    </tr>\n",
       "    <tr>\n",
       "      <th>2</th>\n",
       "      <td>34310</td>\n",
       "      <td>functional</td>\n",
       "    </tr>\n",
       "    <tr>\n",
       "      <th>3</th>\n",
       "      <td>67743</td>\n",
       "      <td>non functional</td>\n",
       "    </tr>\n",
       "    <tr>\n",
       "      <th>4</th>\n",
       "      <td>19728</td>\n",
       "      <td>functional</td>\n",
       "    </tr>\n",
       "  </tbody>\n",
       "</table>\n",
       "</div>"
      ],
      "text/plain": [
       "      id    status_group\n",
       "0  69572      functional\n",
       "1   8776      functional\n",
       "2  34310      functional\n",
       "3  67743  non functional\n",
       "4  19728      functional"
      ]
     },
     "execution_count": 3,
     "metadata": {},
     "output_type": "execute_result"
    }
   ],
   "source": [
    "df_y.head() ##Include ID for wells and their status"
   ]
  },
  {
   "cell_type": "code",
   "execution_count": 4,
   "id": "cefcef6c",
   "metadata": {},
   "outputs": [
    {
     "data": {
      "text/plain": [
       "functional                 32259\n",
       "non functional             22824\n",
       "functional needs repair     4317\n",
       "Name: status_group, dtype: int64"
      ]
     },
     "execution_count": 4,
     "metadata": {},
     "output_type": "execute_result"
    }
   ],
   "source": [
    "### There are 3 values for the status group. \"Functional needs repair\" doesn't have as many values as the other two options.\n",
    "df_y['status_group'].value_counts() "
   ]
  },
  {
   "cell_type": "code",
   "execution_count": 5,
   "id": "258b0ad4",
   "metadata": {},
   "outputs": [
    {
     "data": {
      "text/html": [
       "<div>\n",
       "<style scoped>\n",
       "    .dataframe tbody tr th:only-of-type {\n",
       "        vertical-align: middle;\n",
       "    }\n",
       "\n",
       "    .dataframe tbody tr th {\n",
       "        vertical-align: top;\n",
       "    }\n",
       "\n",
       "    .dataframe thead th {\n",
       "        text-align: right;\n",
       "    }\n",
       "</style>\n",
       "<table border=\"1\" class=\"dataframe\">\n",
       "  <thead>\n",
       "    <tr style=\"text-align: right;\">\n",
       "      <th></th>\n",
       "      <th>id</th>\n",
       "      <th>amount_tsh</th>\n",
       "      <th>date_recorded</th>\n",
       "      <th>funder</th>\n",
       "      <th>gps_height</th>\n",
       "      <th>installer</th>\n",
       "      <th>longitude</th>\n",
       "      <th>latitude</th>\n",
       "      <th>wpt_name</th>\n",
       "      <th>num_private</th>\n",
       "      <th>...</th>\n",
       "      <th>payment_type</th>\n",
       "      <th>water_quality</th>\n",
       "      <th>quality_group</th>\n",
       "      <th>quantity</th>\n",
       "      <th>quantity_group</th>\n",
       "      <th>source</th>\n",
       "      <th>source_type</th>\n",
       "      <th>source_class</th>\n",
       "      <th>waterpoint_type</th>\n",
       "      <th>waterpoint_type_group</th>\n",
       "    </tr>\n",
       "  </thead>\n",
       "  <tbody>\n",
       "    <tr>\n",
       "      <th>0</th>\n",
       "      <td>69572</td>\n",
       "      <td>6000.0</td>\n",
       "      <td>2011-03-14</td>\n",
       "      <td>Roman</td>\n",
       "      <td>1390</td>\n",
       "      <td>Roman</td>\n",
       "      <td>34.938093</td>\n",
       "      <td>-9.856322</td>\n",
       "      <td>none</td>\n",
       "      <td>0</td>\n",
       "      <td>...</td>\n",
       "      <td>annually</td>\n",
       "      <td>soft</td>\n",
       "      <td>good</td>\n",
       "      <td>enough</td>\n",
       "      <td>enough</td>\n",
       "      <td>spring</td>\n",
       "      <td>spring</td>\n",
       "      <td>groundwater</td>\n",
       "      <td>communal standpipe</td>\n",
       "      <td>communal standpipe</td>\n",
       "    </tr>\n",
       "    <tr>\n",
       "      <th>1</th>\n",
       "      <td>8776</td>\n",
       "      <td>0.0</td>\n",
       "      <td>2013-03-06</td>\n",
       "      <td>Grumeti</td>\n",
       "      <td>1399</td>\n",
       "      <td>GRUMETI</td>\n",
       "      <td>34.698766</td>\n",
       "      <td>-2.147466</td>\n",
       "      <td>Zahanati</td>\n",
       "      <td>0</td>\n",
       "      <td>...</td>\n",
       "      <td>never pay</td>\n",
       "      <td>soft</td>\n",
       "      <td>good</td>\n",
       "      <td>insufficient</td>\n",
       "      <td>insufficient</td>\n",
       "      <td>rainwater harvesting</td>\n",
       "      <td>rainwater harvesting</td>\n",
       "      <td>surface</td>\n",
       "      <td>communal standpipe</td>\n",
       "      <td>communal standpipe</td>\n",
       "    </tr>\n",
       "    <tr>\n",
       "      <th>2</th>\n",
       "      <td>34310</td>\n",
       "      <td>25.0</td>\n",
       "      <td>2013-02-25</td>\n",
       "      <td>Lottery Club</td>\n",
       "      <td>686</td>\n",
       "      <td>World vision</td>\n",
       "      <td>37.460664</td>\n",
       "      <td>-3.821329</td>\n",
       "      <td>Kwa Mahundi</td>\n",
       "      <td>0</td>\n",
       "      <td>...</td>\n",
       "      <td>per bucket</td>\n",
       "      <td>soft</td>\n",
       "      <td>good</td>\n",
       "      <td>enough</td>\n",
       "      <td>enough</td>\n",
       "      <td>dam</td>\n",
       "      <td>dam</td>\n",
       "      <td>surface</td>\n",
       "      <td>communal standpipe multiple</td>\n",
       "      <td>communal standpipe</td>\n",
       "    </tr>\n",
       "    <tr>\n",
       "      <th>3</th>\n",
       "      <td>67743</td>\n",
       "      <td>0.0</td>\n",
       "      <td>2013-01-28</td>\n",
       "      <td>Unicef</td>\n",
       "      <td>263</td>\n",
       "      <td>UNICEF</td>\n",
       "      <td>38.486161</td>\n",
       "      <td>-11.155298</td>\n",
       "      <td>Zahanati Ya Nanyumbu</td>\n",
       "      <td>0</td>\n",
       "      <td>...</td>\n",
       "      <td>never pay</td>\n",
       "      <td>soft</td>\n",
       "      <td>good</td>\n",
       "      <td>dry</td>\n",
       "      <td>dry</td>\n",
       "      <td>machine dbh</td>\n",
       "      <td>borehole</td>\n",
       "      <td>groundwater</td>\n",
       "      <td>communal standpipe multiple</td>\n",
       "      <td>communal standpipe</td>\n",
       "    </tr>\n",
       "    <tr>\n",
       "      <th>4</th>\n",
       "      <td>19728</td>\n",
       "      <td>0.0</td>\n",
       "      <td>2011-07-13</td>\n",
       "      <td>Action In A</td>\n",
       "      <td>0</td>\n",
       "      <td>Artisan</td>\n",
       "      <td>31.130847</td>\n",
       "      <td>-1.825359</td>\n",
       "      <td>Shuleni</td>\n",
       "      <td>0</td>\n",
       "      <td>...</td>\n",
       "      <td>never pay</td>\n",
       "      <td>soft</td>\n",
       "      <td>good</td>\n",
       "      <td>seasonal</td>\n",
       "      <td>seasonal</td>\n",
       "      <td>rainwater harvesting</td>\n",
       "      <td>rainwater harvesting</td>\n",
       "      <td>surface</td>\n",
       "      <td>communal standpipe</td>\n",
       "      <td>communal standpipe</td>\n",
       "    </tr>\n",
       "  </tbody>\n",
       "</table>\n",
       "<p>5 rows × 40 columns</p>\n",
       "</div>"
      ],
      "text/plain": [
       "      id  amount_tsh date_recorded        funder  gps_height     installer  \\\n",
       "0  69572      6000.0    2011-03-14         Roman        1390         Roman   \n",
       "1   8776         0.0    2013-03-06       Grumeti        1399       GRUMETI   \n",
       "2  34310        25.0    2013-02-25  Lottery Club         686  World vision   \n",
       "3  67743         0.0    2013-01-28        Unicef         263        UNICEF   \n",
       "4  19728         0.0    2011-07-13   Action In A           0       Artisan   \n",
       "\n",
       "   longitude   latitude              wpt_name  num_private  ... payment_type  \\\n",
       "0  34.938093  -9.856322                  none            0  ...     annually   \n",
       "1  34.698766  -2.147466              Zahanati            0  ...    never pay   \n",
       "2  37.460664  -3.821329           Kwa Mahundi            0  ...   per bucket   \n",
       "3  38.486161 -11.155298  Zahanati Ya Nanyumbu            0  ...    never pay   \n",
       "4  31.130847  -1.825359               Shuleni            0  ...    never pay   \n",
       "\n",
       "  water_quality quality_group      quantity  quantity_group  \\\n",
       "0          soft          good        enough          enough   \n",
       "1          soft          good  insufficient    insufficient   \n",
       "2          soft          good        enough          enough   \n",
       "3          soft          good           dry             dry   \n",
       "4          soft          good      seasonal        seasonal   \n",
       "\n",
       "                 source           source_type  source_class  \\\n",
       "0                spring                spring   groundwater   \n",
       "1  rainwater harvesting  rainwater harvesting       surface   \n",
       "2                   dam                   dam       surface   \n",
       "3           machine dbh              borehole   groundwater   \n",
       "4  rainwater harvesting  rainwater harvesting       surface   \n",
       "\n",
       "               waterpoint_type waterpoint_type_group  \n",
       "0           communal standpipe    communal standpipe  \n",
       "1           communal standpipe    communal standpipe  \n",
       "2  communal standpipe multiple    communal standpipe  \n",
       "3  communal standpipe multiple    communal standpipe  \n",
       "4           communal standpipe    communal standpipe  \n",
       "\n",
       "[5 rows x 40 columns]"
      ]
     },
     "execution_count": 5,
     "metadata": {},
     "output_type": "execute_result"
    }
   ],
   "source": [
    "##This table also has id and 39 other potential predictor variables for the classifer\n",
    "df_X.head()"
   ]
  },
  {
   "cell_type": "code",
   "execution_count": 6,
   "id": "9aa2e9fe",
   "metadata": {},
   "outputs": [
    {
     "name": "stdout",
     "output_type": "stream",
     "text": [
      "<class 'pandas.core.frame.DataFrame'>\n",
      "RangeIndex: 59400 entries, 0 to 59399\n",
      "Data columns (total 40 columns):\n",
      " #   Column                 Non-Null Count  Dtype  \n",
      "---  ------                 --------------  -----  \n",
      " 0   id                     59400 non-null  int64  \n",
      " 1   amount_tsh             59400 non-null  float64\n",
      " 2   date_recorded          59400 non-null  object \n",
      " 3   funder                 55765 non-null  object \n",
      " 4   gps_height             59400 non-null  int64  \n",
      " 5   installer              55745 non-null  object \n",
      " 6   longitude              59400 non-null  float64\n",
      " 7   latitude               59400 non-null  float64\n",
      " 8   wpt_name               59400 non-null  object \n",
      " 9   num_private            59400 non-null  int64  \n",
      " 10  basin                  59400 non-null  object \n",
      " 11  subvillage             59029 non-null  object \n",
      " 12  region                 59400 non-null  object \n",
      " 13  region_code            59400 non-null  int64  \n",
      " 14  district_code          59400 non-null  int64  \n",
      " 15  lga                    59400 non-null  object \n",
      " 16  ward                   59400 non-null  object \n",
      " 17  population             59400 non-null  int64  \n",
      " 18  public_meeting         56066 non-null  object \n",
      " 19  recorded_by            59400 non-null  object \n",
      " 20  scheme_management      55523 non-null  object \n",
      " 21  scheme_name            31234 non-null  object \n",
      " 22  permit                 56344 non-null  object \n",
      " 23  construction_year      59400 non-null  int64  \n",
      " 24  extraction_type        59400 non-null  object \n",
      " 25  extraction_type_group  59400 non-null  object \n",
      " 26  extraction_type_class  59400 non-null  object \n",
      " 27  management             59400 non-null  object \n",
      " 28  management_group       59400 non-null  object \n",
      " 29  payment                59400 non-null  object \n",
      " 30  payment_type           59400 non-null  object \n",
      " 31  water_quality          59400 non-null  object \n",
      " 32  quality_group          59400 non-null  object \n",
      " 33  quantity               59400 non-null  object \n",
      " 34  quantity_group         59400 non-null  object \n",
      " 35  source                 59400 non-null  object \n",
      " 36  source_type            59400 non-null  object \n",
      " 37  source_class           59400 non-null  object \n",
      " 38  waterpoint_type        59400 non-null  object \n",
      " 39  waterpoint_type_group  59400 non-null  object \n",
      "dtypes: float64(3), int64(7), object(30)\n",
      "memory usage: 18.1+ MB\n"
     ]
    }
   ],
   "source": [
    "df_X.info()"
   ]
  },
  {
   "cell_type": "markdown",
   "id": "02e71ef5",
   "metadata": {},
   "source": [
    "#### Preview Notes\n",
    "\n",
    "The preview shows that we can merge both these data sets using the ID column. \n",
    "\n",
    "The independent variables are mostly categorical variables. This indicates pre-processing will need to be done on that end to fit them into the model. The preview also shows some of the variables have missing values. "
   ]
  },
  {
   "cell_type": "markdown",
   "id": "47c4ccdf",
   "metadata": {},
   "source": [
    "## Data Cleaning & Processing"
   ]
  },
  {
   "cell_type": "markdown",
   "id": "f4b50d10",
   "metadata": {},
   "source": [
    "1. Merge both datasets"
   ]
  },
  {
   "cell_type": "code",
   "execution_count": 7,
   "id": "6e794697",
   "metadata": {},
   "outputs": [],
   "source": [
    "df = pd.merge(df_y, df_X, on= 'id', how = 'left')"
   ]
  },
  {
   "cell_type": "code",
   "execution_count": 8,
   "id": "df534f20",
   "metadata": {},
   "outputs": [
    {
     "data": {
      "text/html": [
       "<div>\n",
       "<style scoped>\n",
       "    .dataframe tbody tr th:only-of-type {\n",
       "        vertical-align: middle;\n",
       "    }\n",
       "\n",
       "    .dataframe tbody tr th {\n",
       "        vertical-align: top;\n",
       "    }\n",
       "\n",
       "    .dataframe thead th {\n",
       "        text-align: right;\n",
       "    }\n",
       "</style>\n",
       "<table border=\"1\" class=\"dataframe\">\n",
       "  <thead>\n",
       "    <tr style=\"text-align: right;\">\n",
       "      <th></th>\n",
       "      <th>id</th>\n",
       "      <th>status_group</th>\n",
       "      <th>amount_tsh</th>\n",
       "      <th>date_recorded</th>\n",
       "      <th>funder</th>\n",
       "      <th>gps_height</th>\n",
       "      <th>installer</th>\n",
       "      <th>longitude</th>\n",
       "      <th>latitude</th>\n",
       "      <th>wpt_name</th>\n",
       "      <th>...</th>\n",
       "      <th>payment_type</th>\n",
       "      <th>water_quality</th>\n",
       "      <th>quality_group</th>\n",
       "      <th>quantity</th>\n",
       "      <th>quantity_group</th>\n",
       "      <th>source</th>\n",
       "      <th>source_type</th>\n",
       "      <th>source_class</th>\n",
       "      <th>waterpoint_type</th>\n",
       "      <th>waterpoint_type_group</th>\n",
       "    </tr>\n",
       "  </thead>\n",
       "  <tbody>\n",
       "    <tr>\n",
       "      <th>0</th>\n",
       "      <td>69572</td>\n",
       "      <td>functional</td>\n",
       "      <td>6000.0</td>\n",
       "      <td>2011-03-14</td>\n",
       "      <td>Roman</td>\n",
       "      <td>1390</td>\n",
       "      <td>Roman</td>\n",
       "      <td>34.938093</td>\n",
       "      <td>-9.856322</td>\n",
       "      <td>none</td>\n",
       "      <td>...</td>\n",
       "      <td>annually</td>\n",
       "      <td>soft</td>\n",
       "      <td>good</td>\n",
       "      <td>enough</td>\n",
       "      <td>enough</td>\n",
       "      <td>spring</td>\n",
       "      <td>spring</td>\n",
       "      <td>groundwater</td>\n",
       "      <td>communal standpipe</td>\n",
       "      <td>communal standpipe</td>\n",
       "    </tr>\n",
       "    <tr>\n",
       "      <th>1</th>\n",
       "      <td>8776</td>\n",
       "      <td>functional</td>\n",
       "      <td>0.0</td>\n",
       "      <td>2013-03-06</td>\n",
       "      <td>Grumeti</td>\n",
       "      <td>1399</td>\n",
       "      <td>GRUMETI</td>\n",
       "      <td>34.698766</td>\n",
       "      <td>-2.147466</td>\n",
       "      <td>Zahanati</td>\n",
       "      <td>...</td>\n",
       "      <td>never pay</td>\n",
       "      <td>soft</td>\n",
       "      <td>good</td>\n",
       "      <td>insufficient</td>\n",
       "      <td>insufficient</td>\n",
       "      <td>rainwater harvesting</td>\n",
       "      <td>rainwater harvesting</td>\n",
       "      <td>surface</td>\n",
       "      <td>communal standpipe</td>\n",
       "      <td>communal standpipe</td>\n",
       "    </tr>\n",
       "  </tbody>\n",
       "</table>\n",
       "<p>2 rows × 41 columns</p>\n",
       "</div>"
      ],
      "text/plain": [
       "      id status_group  amount_tsh date_recorded   funder  gps_height  \\\n",
       "0  69572   functional      6000.0    2011-03-14    Roman        1390   \n",
       "1   8776   functional         0.0    2013-03-06  Grumeti        1399   \n",
       "\n",
       "  installer  longitude  latitude  wpt_name  ...  payment_type water_quality  \\\n",
       "0     Roman  34.938093 -9.856322      none  ...      annually          soft   \n",
       "1   GRUMETI  34.698766 -2.147466  Zahanati  ...     never pay          soft   \n",
       "\n",
       "  quality_group      quantity  quantity_group                source  \\\n",
       "0          good        enough          enough                spring   \n",
       "1          good  insufficient    insufficient  rainwater harvesting   \n",
       "\n",
       "            source_type source_class     waterpoint_type waterpoint_type_group  \n",
       "0                spring  groundwater  communal standpipe    communal standpipe  \n",
       "1  rainwater harvesting      surface  communal standpipe    communal standpipe  \n",
       "\n",
       "[2 rows x 41 columns]"
      ]
     },
     "execution_count": 8,
     "metadata": {},
     "output_type": "execute_result"
    }
   ],
   "source": [
    "df.head(2)"
   ]
  },
  {
   "cell_type": "markdown",
   "id": "f0fe9d8c",
   "metadata": {},
   "source": [
    "2. Handle Null Values"
   ]
  },
  {
   "cell_type": "code",
   "execution_count": 9,
   "id": "e8080c3e",
   "metadata": {},
   "outputs": [],
   "source": [
    "def print_columns_with_null_values(data_frame):\n",
    "    null_columns = data_frame.columns[data_frame.isnull().any()]\n",
    "    for col in null_columns:\n",
    "        print(f\"Column '{col}' has null values.\")"
   ]
  },
  {
   "cell_type": "code",
   "execution_count": 10,
   "id": "3ea08904",
   "metadata": {},
   "outputs": [
    {
     "name": "stdout",
     "output_type": "stream",
     "text": [
      "Column 'funder' has null values.\n",
      "Column 'installer' has null values.\n",
      "Column 'subvillage' has null values.\n",
      "Column 'public_meeting' has null values.\n",
      "Column 'scheme_management' has null values.\n",
      "Column 'scheme_name' has null values.\n",
      "Column 'permit' has null values.\n"
     ]
    }
   ],
   "source": [
    "print_columns_with_null_values(df)"
   ]
  },
  {
   "cell_type": "markdown",
   "id": "fd32fd37",
   "metadata": {},
   "source": [
    "I will evaluate each column to see what the best way to handle the null values is"
   ]
  },
  {
   "cell_type": "code",
   "execution_count": 11,
   "id": "cc422726",
   "metadata": {},
   "outputs": [
    {
     "data": {
      "text/plain": [
       "Government Of Tanzania    9084\n",
       "Danida                    3114\n",
       "Hesawa                    2202\n",
       "Rwssp                     1374\n",
       "World Bank                1349\n",
       "                          ... \n",
       "Rarymond Ekura               1\n",
       "Justine Marwa                1\n",
       "Municipal Council            1\n",
       "Afdp                         1\n",
       "Samlo                        1\n",
       "Name: funder, Length: 1897, dtype: int64"
      ]
     },
     "execution_count": 11,
     "metadata": {},
     "output_type": "execute_result"
    }
   ],
   "source": [
    "df['funder'].value_counts() ##This could be dropped as who funded the project is unlikely to help the classification problem."
   ]
  },
  {
   "cell_type": "code",
   "execution_count": 12,
   "id": "bb55d822",
   "metadata": {},
   "outputs": [
    {
     "data": {
      "text/plain": [
       "DWE                17402\n",
       "Government          1825\n",
       "RWE                 1206\n",
       "Commu               1060\n",
       "DANIDA              1050\n",
       "                   ...  \n",
       "Wizara  ya maji        1\n",
       "TWESS                  1\n",
       "Nasan workers          1\n",
       "R                      1\n",
       "SELEPTA                1\n",
       "Name: installer, Length: 2145, dtype: int64"
      ]
     },
     "execution_count": 12,
     "metadata": {},
     "output_type": "execute_result"
    }
   ],
   "source": [
    "df['installer'].value_counts() "
   ]
  },
  {
   "cell_type": "code",
   "execution_count": 13,
   "id": "70942126",
   "metadata": {},
   "outputs": [
    {
     "data": {
      "text/plain": [
       "Madukani        508\n",
       "Shuleni         506\n",
       "Majengo         502\n",
       "Kati            373\n",
       "Mtakuja         262\n",
       "               ... \n",
       "Kipompo           1\n",
       "Chanyamilima      1\n",
       "Ikalime           1\n",
       "Kemagaka          1\n",
       "Kikatanyemba      1\n",
       "Name: subvillage, Length: 19287, dtype: int64"
      ]
     },
     "execution_count": 13,
     "metadata": {},
     "output_type": "execute_result"
    }
   ],
   "source": [
    "df['subvillage'].value_counts() ##We can drop and use region or district code to look at locations if needed. "
   ]
  },
  {
   "cell_type": "code",
   "execution_count": 14,
   "id": "6d585855",
   "metadata": {},
   "outputs": [
    {
     "data": {
      "text/plain": [
       "True     51011\n",
       "False     5055\n",
       "Name: public_meeting, dtype: int64"
      ]
     },
     "execution_count": 14,
     "metadata": {},
     "output_type": "execute_result"
    }
   ],
   "source": [
    "df['public_meeting'].value_counts() ## Drop as this won't have an impact on the classifier. "
   ]
  },
  {
   "cell_type": "code",
   "execution_count": 15,
   "id": "ddc17e6b",
   "metadata": {},
   "outputs": [
    {
     "data": {
      "text/plain": [
       "VWC                 36793\n",
       "WUG                  5206\n",
       "Water authority      3153\n",
       "WUA                  2883\n",
       "Water Board          2748\n",
       "Parastatal           1680\n",
       "Private operator     1063\n",
       "Company              1061\n",
       "Other                 766\n",
       "SWC                    97\n",
       "Trust                  72\n",
       "None                    1\n",
       "Name: scheme_management, dtype: int64"
      ]
     },
     "execution_count": 15,
     "metadata": {},
     "output_type": "execute_result"
    }
   ],
   "source": [
    "df['scheme_management'].value_counts() \n",
    "##Since there is a none value already exisiting, we can move an N/A values into the None category and not remove the column. "
   ]
  },
  {
   "cell_type": "code",
   "execution_count": 16,
   "id": "59b1a4bb",
   "metadata": {},
   "outputs": [
    {
     "data": {
      "text/plain": [
       "K                       682\n",
       "None                    644\n",
       "Borehole                546\n",
       "Chalinze wate           405\n",
       "M                       400\n",
       "                       ... \n",
       "Mradi wa maji Vijini      1\n",
       "Villagers                 1\n",
       "Magundi water supply      1\n",
       "Saadani Chumv             1\n",
       "Mtawanya                  1\n",
       "Name: scheme_name, Length: 2696, dtype: int64"
      ]
     },
     "execution_count": 16,
     "metadata": {},
     "output_type": "execute_result"
    }
   ],
   "source": [
    "df['scheme_name'].value_counts() ##Drop"
   ]
  },
  {
   "cell_type": "code",
   "execution_count": 17,
   "id": "83e29230",
   "metadata": {},
   "outputs": [
    {
     "data": {
      "text/plain": [
       "True     38852\n",
       "False    17492\n",
       "Name: permit, dtype: int64"
      ]
     },
     "execution_count": 17,
     "metadata": {},
     "output_type": "execute_result"
    }
   ],
   "source": [
    "df['permit'].value_counts() ##It's reasonable to assume that if no record exisits, that there were no permits, so we can replce null values with false. "
   ]
  },
  {
   "cell_type": "code",
   "execution_count": 18,
   "id": "0d80e847",
   "metadata": {},
   "outputs": [],
   "source": [
    "df = df.drop(columns = ['funder','installer', 'subvillage', 'public_meeting', 'scheme_name'], axis = 1)"
   ]
  },
  {
   "cell_type": "code",
   "execution_count": 19,
   "id": "1d88d7ce",
   "metadata": {},
   "outputs": [],
   "source": [
    "df['scheme_management'] = df['scheme_management'].fillna('None')"
   ]
  },
  {
   "cell_type": "code",
   "execution_count": 20,
   "id": "584ced25",
   "metadata": {},
   "outputs": [
    {
     "data": {
      "text/plain": [
       "VWC                 36793\n",
       "WUG                  5206\n",
       "None                 3878\n",
       "Water authority      3153\n",
       "WUA                  2883\n",
       "Water Board          2748\n",
       "Parastatal           1680\n",
       "Private operator     1063\n",
       "Company              1061\n",
       "Other                 766\n",
       "SWC                    97\n",
       "Trust                  72\n",
       "Name: scheme_management, dtype: int64"
      ]
     },
     "execution_count": 20,
     "metadata": {},
     "output_type": "execute_result"
    }
   ],
   "source": [
    "df['scheme_management'].value_counts() ##There are now 3878 none values instead of just 1 previously. "
   ]
  },
  {
   "cell_type": "code",
   "execution_count": 21,
   "id": "807100c8",
   "metadata": {},
   "outputs": [],
   "source": [
    "df['permit'] = df['permit'].fillna(False)"
   ]
  },
  {
   "cell_type": "code",
   "execution_count": 22,
   "id": "cfb76811",
   "metadata": {},
   "outputs": [
    {
     "data": {
      "text/plain": [
       "True     38852\n",
       "False    20548\n",
       "Name: permit, dtype: int64"
      ]
     },
     "execution_count": 22,
     "metadata": {},
     "output_type": "execute_result"
    }
   ],
   "source": [
    "df['permit'].value_counts() ##There is now 20,548 False values compared to 17,492 observed previously. "
   ]
  },
  {
   "cell_type": "markdown",
   "id": "c27687f0",
   "metadata": {},
   "source": [
    "3. View Processed DF/ Select Columns to Start the Classifier"
   ]
  },
  {
   "cell_type": "code",
   "execution_count": 25,
   "id": "7e1cf502",
   "metadata": {},
   "outputs": [
    {
     "data": {
      "text/plain": [
       "Index(['id', 'status_group', 'amount_tsh', 'date_recorded', 'gps_height',\n",
       "       'longitude', 'latitude', 'wpt_name', 'num_private', 'basin', 'region',\n",
       "       'region_code', 'district_code', 'lga', 'ward', 'population',\n",
       "       'recorded_by', 'scheme_management', 'permit', 'construction_year',\n",
       "       'extraction_type', 'extraction_type_group', 'extraction_type_class',\n",
       "       'management', 'management_group', 'payment', 'payment_type',\n",
       "       'water_quality', 'quality_group', 'quantity', 'quantity_group',\n",
       "       'source', 'source_type', 'source_class', 'waterpoint_type',\n",
       "       'waterpoint_type_group'],\n",
       "      dtype='object')"
      ]
     },
     "execution_count": 25,
     "metadata": {},
     "output_type": "execute_result"
    }
   ],
   "source": [
    "df.columns"
   ]
  },
  {
   "cell_type": "markdown",
   "id": "9f182e03",
   "metadata": {},
   "source": [
    "After previewing the columns, I've selected five columns to convert into dummies and test in the classifier: \n",
    "1. construction_year\n",
    "2. extraction_type_class\n",
    "3. source\n",
    "4. waterpoint_type\n",
    "5. water_quality\n"
   ]
  },
  {
   "cell_type": "markdown",
   "id": "15d3906f",
   "metadata": {},
   "source": [
    "5. Create Dummies"
   ]
  },
  {
   "cell_type": "code",
   "execution_count": 26,
   "id": "7a393b20",
   "metadata": {},
   "outputs": [],
   "source": [
    "subset_df =  df[['status_group', 'construction_year', 'extraction_type_class', 'source', 'waterpoint_type', 'water_quality']]"
   ]
  },
  {
   "cell_type": "code",
   "execution_count": 27,
   "id": "cc91e53e",
   "metadata": {},
   "outputs": [],
   "source": [
    "subset_df = pd.get_dummies(subset_df,columns = ['extraction_type_class', 'source', 'waterpoint_type', 'water_quality'])"
   ]
  },
  {
   "cell_type": "code",
   "execution_count": 28,
   "id": "b4017938",
   "metadata": {},
   "outputs": [
    {
     "data": {
      "text/html": [
       "<div>\n",
       "<style scoped>\n",
       "    .dataframe tbody tr th:only-of-type {\n",
       "        vertical-align: middle;\n",
       "    }\n",
       "\n",
       "    .dataframe tbody tr th {\n",
       "        vertical-align: top;\n",
       "    }\n",
       "\n",
       "    .dataframe thead th {\n",
       "        text-align: right;\n",
       "    }\n",
       "</style>\n",
       "<table border=\"1\" class=\"dataframe\">\n",
       "  <thead>\n",
       "    <tr style=\"text-align: right;\">\n",
       "      <th></th>\n",
       "      <th>status_group</th>\n",
       "      <th>construction_year</th>\n",
       "      <th>extraction_type_class_gravity</th>\n",
       "      <th>extraction_type_class_handpump</th>\n",
       "      <th>extraction_type_class_motorpump</th>\n",
       "      <th>extraction_type_class_other</th>\n",
       "      <th>extraction_type_class_rope pump</th>\n",
       "      <th>extraction_type_class_submersible</th>\n",
       "      <th>extraction_type_class_wind-powered</th>\n",
       "      <th>source_dam</th>\n",
       "      <th>...</th>\n",
       "      <th>waterpoint_type_improved spring</th>\n",
       "      <th>waterpoint_type_other</th>\n",
       "      <th>water_quality_coloured</th>\n",
       "      <th>water_quality_fluoride</th>\n",
       "      <th>water_quality_fluoride abandoned</th>\n",
       "      <th>water_quality_milky</th>\n",
       "      <th>water_quality_salty</th>\n",
       "      <th>water_quality_salty abandoned</th>\n",
       "      <th>water_quality_soft</th>\n",
       "      <th>water_quality_unknown</th>\n",
       "    </tr>\n",
       "  </thead>\n",
       "  <tbody>\n",
       "    <tr>\n",
       "      <th>0</th>\n",
       "      <td>functional</td>\n",
       "      <td>1999</td>\n",
       "      <td>1</td>\n",
       "      <td>0</td>\n",
       "      <td>0</td>\n",
       "      <td>0</td>\n",
       "      <td>0</td>\n",
       "      <td>0</td>\n",
       "      <td>0</td>\n",
       "      <td>0</td>\n",
       "      <td>...</td>\n",
       "      <td>0</td>\n",
       "      <td>0</td>\n",
       "      <td>0</td>\n",
       "      <td>0</td>\n",
       "      <td>0</td>\n",
       "      <td>0</td>\n",
       "      <td>0</td>\n",
       "      <td>0</td>\n",
       "      <td>1</td>\n",
       "      <td>0</td>\n",
       "    </tr>\n",
       "    <tr>\n",
       "      <th>1</th>\n",
       "      <td>functional</td>\n",
       "      <td>2010</td>\n",
       "      <td>1</td>\n",
       "      <td>0</td>\n",
       "      <td>0</td>\n",
       "      <td>0</td>\n",
       "      <td>0</td>\n",
       "      <td>0</td>\n",
       "      <td>0</td>\n",
       "      <td>0</td>\n",
       "      <td>...</td>\n",
       "      <td>0</td>\n",
       "      <td>0</td>\n",
       "      <td>0</td>\n",
       "      <td>0</td>\n",
       "      <td>0</td>\n",
       "      <td>0</td>\n",
       "      <td>0</td>\n",
       "      <td>0</td>\n",
       "      <td>1</td>\n",
       "      <td>0</td>\n",
       "    </tr>\n",
       "    <tr>\n",
       "      <th>2</th>\n",
       "      <td>functional</td>\n",
       "      <td>2009</td>\n",
       "      <td>1</td>\n",
       "      <td>0</td>\n",
       "      <td>0</td>\n",
       "      <td>0</td>\n",
       "      <td>0</td>\n",
       "      <td>0</td>\n",
       "      <td>0</td>\n",
       "      <td>1</td>\n",
       "      <td>...</td>\n",
       "      <td>0</td>\n",
       "      <td>0</td>\n",
       "      <td>0</td>\n",
       "      <td>0</td>\n",
       "      <td>0</td>\n",
       "      <td>0</td>\n",
       "      <td>0</td>\n",
       "      <td>0</td>\n",
       "      <td>1</td>\n",
       "      <td>0</td>\n",
       "    </tr>\n",
       "    <tr>\n",
       "      <th>3</th>\n",
       "      <td>non functional</td>\n",
       "      <td>1986</td>\n",
       "      <td>0</td>\n",
       "      <td>0</td>\n",
       "      <td>0</td>\n",
       "      <td>0</td>\n",
       "      <td>0</td>\n",
       "      <td>1</td>\n",
       "      <td>0</td>\n",
       "      <td>0</td>\n",
       "      <td>...</td>\n",
       "      <td>0</td>\n",
       "      <td>0</td>\n",
       "      <td>0</td>\n",
       "      <td>0</td>\n",
       "      <td>0</td>\n",
       "      <td>0</td>\n",
       "      <td>0</td>\n",
       "      <td>0</td>\n",
       "      <td>1</td>\n",
       "      <td>0</td>\n",
       "    </tr>\n",
       "    <tr>\n",
       "      <th>4</th>\n",
       "      <td>functional</td>\n",
       "      <td>0</td>\n",
       "      <td>1</td>\n",
       "      <td>0</td>\n",
       "      <td>0</td>\n",
       "      <td>0</td>\n",
       "      <td>0</td>\n",
       "      <td>0</td>\n",
       "      <td>0</td>\n",
       "      <td>0</td>\n",
       "      <td>...</td>\n",
       "      <td>0</td>\n",
       "      <td>0</td>\n",
       "      <td>0</td>\n",
       "      <td>0</td>\n",
       "      <td>0</td>\n",
       "      <td>0</td>\n",
       "      <td>0</td>\n",
       "      <td>0</td>\n",
       "      <td>1</td>\n",
       "      <td>0</td>\n",
       "    </tr>\n",
       "  </tbody>\n",
       "</table>\n",
       "<p>5 rows × 34 columns</p>\n",
       "</div>"
      ],
      "text/plain": [
       "     status_group  construction_year  extraction_type_class_gravity  \\\n",
       "0      functional               1999                              1   \n",
       "1      functional               2010                              1   \n",
       "2      functional               2009                              1   \n",
       "3  non functional               1986                              0   \n",
       "4      functional                  0                              1   \n",
       "\n",
       "   extraction_type_class_handpump  extraction_type_class_motorpump  \\\n",
       "0                               0                                0   \n",
       "1                               0                                0   \n",
       "2                               0                                0   \n",
       "3                               0                                0   \n",
       "4                               0                                0   \n",
       "\n",
       "   extraction_type_class_other  extraction_type_class_rope pump  \\\n",
       "0                            0                                0   \n",
       "1                            0                                0   \n",
       "2                            0                                0   \n",
       "3                            0                                0   \n",
       "4                            0                                0   \n",
       "\n",
       "   extraction_type_class_submersible  extraction_type_class_wind-powered  \\\n",
       "0                                  0                                   0   \n",
       "1                                  0                                   0   \n",
       "2                                  0                                   0   \n",
       "3                                  1                                   0   \n",
       "4                                  0                                   0   \n",
       "\n",
       "   source_dam  ...  waterpoint_type_improved spring  waterpoint_type_other  \\\n",
       "0           0  ...                                0                      0   \n",
       "1           0  ...                                0                      0   \n",
       "2           1  ...                                0                      0   \n",
       "3           0  ...                                0                      0   \n",
       "4           0  ...                                0                      0   \n",
       "\n",
       "   water_quality_coloured  water_quality_fluoride  \\\n",
       "0                       0                       0   \n",
       "1                       0                       0   \n",
       "2                       0                       0   \n",
       "3                       0                       0   \n",
       "4                       0                       0   \n",
       "\n",
       "   water_quality_fluoride abandoned  water_quality_milky  water_quality_salty  \\\n",
       "0                                 0                    0                    0   \n",
       "1                                 0                    0                    0   \n",
       "2                                 0                    0                    0   \n",
       "3                                 0                    0                    0   \n",
       "4                                 0                    0                    0   \n",
       "\n",
       "   water_quality_salty abandoned  water_quality_soft  water_quality_unknown  \n",
       "0                              0                   1                      0  \n",
       "1                              0                   1                      0  \n",
       "2                              0                   1                      0  \n",
       "3                              0                   1                      0  \n",
       "4                              0                   1                      0  \n",
       "\n",
       "[5 rows x 34 columns]"
      ]
     },
     "execution_count": 28,
     "metadata": {},
     "output_type": "execute_result"
    }
   ],
   "source": [
    "subset_df.head()"
   ]
  },
  {
   "cell_type": "markdown",
   "id": "c823e582",
   "metadata": {},
   "source": [
    "6. Aggregate Status Group to create a binary classifier\n",
    "\n",
    "This there is very few 'functional needs repair', so I will aggregate them into \"non functional\" to make this a binary classification problem. I will also convert the target column into a 1s and 0s with \"non functional\" being a positive and therfore, 1 value. "
   ]
  },
  {
   "cell_type": "code",
   "execution_count": 29,
   "id": "e3d28b2f",
   "metadata": {},
   "outputs": [],
   "source": [
    "subset_df['status_group'] = np.where(subset_df['status_group'] == 'functional needs repair', 'non functional', subset_df['status_group'])"
   ]
  },
  {
   "cell_type": "code",
   "execution_count": 30,
   "id": "556f45ed",
   "metadata": {},
   "outputs": [
    {
     "data": {
      "text/plain": [
       "functional        32259\n",
       "non functional    27141\n",
       "Name: status_group, dtype: int64"
      ]
     },
     "execution_count": 30,
     "metadata": {},
     "output_type": "execute_result"
    }
   ],
   "source": [
    "subset_df['status_group'].value_counts()"
   ]
  },
  {
   "cell_type": "code",
   "execution_count": 31,
   "id": "9a0ef41e",
   "metadata": {},
   "outputs": [],
   "source": [
    "subset_df['status_group'] = np.where(subset_df['status_group'] == 'functional', 0, 1)"
   ]
  },
  {
   "cell_type": "markdown",
   "id": "103b609e",
   "metadata": {},
   "source": [
    "## Model 1: Build a Regular Tree for Baseline \n",
    "\n",
    "In this section, I will build a regular decsion tress to establish a baseline to measure performance of the classifier in further interations. \n",
    "\n",
    "This section performs and train, test, split with a test size of 25% and using a random state to ensure the model results are reproducible. "
   ]
  },
  {
   "cell_type": "markdown",
   "id": "bbff4b1d",
   "metadata": {},
   "source": [
    "### Train Test Split"
   ]
  },
  {
   "cell_type": "code",
   "execution_count": 32,
   "id": "01d8b816",
   "metadata": {},
   "outputs": [],
   "source": [
    "subset = subset_df.drop(columns = 'status_group', axis = 1)\n",
    "target = subset_df['status_group']"
   ]
  },
  {
   "cell_type": "code",
   "execution_count": 33,
   "id": "25e6cc1b",
   "metadata": {},
   "outputs": [],
   "source": [
    "data_train, data_test, target_train, target_test = train_test_split(subset, target, test_size = .25, random_state = 123)"
   ]
  },
  {
   "cell_type": "markdown",
   "id": "377e3606",
   "metadata": {},
   "source": [
    "### Initialize and Fit a Decision Tree Classifier"
   ]
  },
  {
   "cell_type": "code",
   "execution_count": 34,
   "id": "f5138b96",
   "metadata": {},
   "outputs": [
    {
     "data": {
      "text/plain": [
       "DecisionTreeClassifier()"
      ]
     },
     "execution_count": 34,
     "metadata": {},
     "output_type": "execute_result"
    }
   ],
   "source": [
    "tree_clf = DecisionTreeClassifier(criterion = 'gini')\n",
    "tree_clf.fit(data_train, target_train)"
   ]
  },
  {
   "cell_type": "markdown",
   "id": "1bdcaf98",
   "metadata": {},
   "source": [
    "### View Feature Importance\n",
    "\n",
    "By looking at the plot, it's easy to identify that construction year and waterpoint type are the most influential factors in the classifier. These are followed by extraction type. "
   ]
  },
  {
   "cell_type": "code",
   "execution_count": 35,
   "id": "c8d5f24d",
   "metadata": {},
   "outputs": [
    {
     "data": {
      "text/plain": [
       "array([2.94182698e-01, 2.51566319e-02, 2.92379041e-02, 8.87564729e-03,\n",
       "       2.38854397e-02, 4.25136763e-03, 1.75096310e-02, 2.12435100e-03,\n",
       "       7.91591413e-03, 2.80122220e-03, 8.99171043e-03, 1.70400625e-02,\n",
       "       4.86937286e-03, 1.56664427e-02, 1.54954009e-02, 7.52664103e-03,\n",
       "       2.04170582e-02, 3.00767148e-03, 1.18971001e-03, 2.53330284e-02,\n",
       "       6.15963254e-02, 0.00000000e+00, 1.26634207e-02, 2.12832052e-03,\n",
       "       2.95629045e-01, 2.89244495e-03, 3.82653657e-03, 2.65560456e-04,\n",
       "       6.82803261e-03, 1.21385032e-02, 3.70045706e-03, 2.35587020e-02,\n",
       "       3.92947462e-02])"
      ]
     },
     "execution_count": 35,
     "metadata": {},
     "output_type": "execute_result"
    }
   ],
   "source": [
    "tree_clf.feature_importances_"
   ]
  },
  {
   "cell_type": "code",
   "execution_count": 36,
   "id": "641ebdab",
   "metadata": {},
   "outputs": [
    {
     "data": {
      "image/png": "[encoded data removed]",
      "text/plain": [
       "<Figure size 800x800 with 1 Axes>"
      ]
     },
     "metadata": {},
     "output_type": "display_data"
    }
   ],
   "source": [
    "def plot_feature_importances(model):\n",
    "    n_features = data_train.shape[1]\n",
    "    plt.figure(figsize=(8,8))\n",
    "    plt.barh(range(n_features), model.feature_importances_, align='center') \n",
    "    plt.yticks(np.arange(n_features), data_train.columns.values) \n",
    "    plt.xlabel('Feature importance')\n",
    "    plt.ylabel('Feature')\n",
    "\n",
    "plot_feature_importances(tree_clf)"
   ]
  },
  {
   "cell_type": "markdown",
   "id": "87a02f9a",
   "metadata": {},
   "source": [
    "### Confusion Matrix\n",
    "\n",
    "For this model, there is a higher emphasis placed on False Negatives - cases where the water pump is non-functional but it predicted as functional as these pose a higher risk for the communities than a false positive. \n",
    "\n",
    "In this baseline model, there were 3,244 cases of False Negatives identified by the confusion matrix. This is significantly higher than the False Positives identified which were 1,242. This is probably attributed to the slight class imbalance between the functional and non-functional water pumps. "
   ]
  },
  {
   "cell_type": "code",
   "execution_count": 37,
   "id": "19fc434f",
   "metadata": {},
   "outputs": [],
   "source": [
    "# Test set predictions\n",
    "pred = tree_clf.predict(data_test)"
   ]
  },
  {
   "cell_type": "code",
   "execution_count": 38,
   "id": "26a77939",
   "metadata": {},
   "outputs": [
    {
     "data": {
      "image/png": "[encoded data removed]",
      "text/plain": [
       "<Figure size 640x480 with 2 Axes>"
      ]
     },
     "metadata": {},
     "output_type": "display_data"
    }
   ],
   "source": [
    "from sklearn import metrics\n",
    "confusion_matrix = metrics.confusion_matrix(target_test, pred)\n",
    "cm_display = metrics.ConfusionMatrixDisplay(confusion_matrix = confusion_matrix, display_labels = [False, True])\n",
    "cm_display.plot()\n",
    "plt.show()"
   ]
  },
  {
   "cell_type": "markdown",
   "id": "6f26c39e",
   "metadata": {},
   "source": [
    "### Classification Report\n",
    "\n",
    "<b> Precision: </b> 67% of the instances predicted as \"Functional\" are actually correct. 75% of instances predicted as \"non functional\" are correct. \n",
    "\n",
    "<b> Recall: </b>  For \"functional\", the recall is .84 meaning that of the actual \"functional\" instances 84% were correctly predicted. For \"non-functional\", the recall is 0.53, indicating that only 53% of the actual \"non functional\" instances were correctly predicted.\n",
    "\n",
    "<b> F1-score: </b> The F1-score ranges from 0 to 1, where higher values indicate better performance. For \"functional\", the F1-score is 0.75, and for \"non functional\", it is 0.62.\n",
    "\n",
    "<b> Support: </b> Support represents the number of instances in each class in the test set. For class 0, there are 7963 instances, and for class 1, there are 6887 instances.\n",
    "\n",
    "<b> Accuracy: </b> The overall accuracy of the classifier is 0.70, which means it correctly predicted of 70% the instances in the test set.\n",
    "\n",
    "In summary, the classifier shows better performance in predicting \"funcitonal\" water pumps(recall and F1-score are higher) than \"non functional\". However, the Precision for \"non functional\" is slightly higher than for \"functional\". This indicates that when the model predicts instances of \"non functional\" water pumps it is more likely to be correct than it is for when it predicts \"functional\". "
   ]
  },
  {
   "cell_type": "code",
   "execution_count": 39,
   "id": "96997ce0",
   "metadata": {},
   "outputs": [
    {
     "name": "stdout",
     "output_type": "stream",
     "text": [
      "              precision    recall  f1-score   support\n",
      "\n",
      "           0       0.67      0.84      0.75      7963\n",
      "           1       0.75      0.53      0.62      6887\n",
      "\n",
      "    accuracy                           0.70     14850\n",
      "   macro avg       0.71      0.69      0.68     14850\n",
      "weighted avg       0.71      0.70      0.69     14850\n",
      "\n"
     ]
    }
   ],
   "source": [
    "print(classification_report(target_test, pred))"
   ]
  },
  {
   "cell_type": "markdown",
   "id": "7b06027e",
   "metadata": {},
   "source": [
    "## Model 2: Running GridSearch to adjust Baseline Model \n",
    "\n",
    "In the next model iteration, GridSearchCV was run to identify the best hyperparameters for the Decsion Tree model to fine-tune the model configuration and potentially lead to a better accuracy score. \n",
    "\n",
    "After running gridsearch, the best model parameters indentified were: \n",
    "1. 'criterion': 'gini',\n",
    "2.  'max_depth': None,\n",
    "3.  'min_samples_leaf': 2,\n",
    "4.  'min_samples_split': 10\n",
    "\n",
    "These hyperparameters produce the following results for accuracy:\n",
    "- Mean Training Score: 66.36%\n",
    "- Mean Test Score: 68.87%\n",
    " \n",
    "Since they are both similar, there is no suggestion that these parameters would yield overfitting. However, the results are not very far from the baseline model. \n"
   ]
  },
  {
   "cell_type": "code",
   "execution_count": 40,
   "id": "5ebade3f",
   "metadata": {},
   "outputs": [],
   "source": [
    "dt_param_grid = {\n",
    "    \"criterion\": [\"gini\", \"entropy\"],\n",
    "    \"max_depth\": [None, 2, 3, 4, 5, 6],\n",
    "    \"min_samples_split\": [2, 5, 10],\n",
    "    \"min_samples_leaf\": [1, 2, 3, 4, 5, 6],\n",
    "}"
   ]
  },
  {
   "cell_type": "code",
   "execution_count": 41,
   "id": "c59759c4",
   "metadata": {},
   "outputs": [
    {
     "data": {
      "text/plain": [
       "GridSearchCV(cv=3, estimator=DecisionTreeClassifier(),\n",
       "             param_grid={'criterion': ['gini', 'entropy'],\n",
       "                         'max_depth': [None, 2, 3, 4, 5, 6],\n",
       "                         'min_samples_leaf': [1, 2, 3, 4, 5, 6],\n",
       "                         'min_samples_split': [2, 5, 10]},\n",
       "             return_train_score=True)"
      ]
     },
     "execution_count": 41,
     "metadata": {},
     "output_type": "execute_result"
    }
   ],
   "source": [
    "# Instantiate GridSearchCV\n",
    "dt_grid_search = GridSearchCV(tree_clf, dt_param_grid, cv=3, return_train_score=True)\n",
    "# Fit to the data\n",
    "dt_grid_search.fit(data_train, target_train)"
   ]
  },
  {
   "cell_type": "code",
   "execution_count": 42,
   "id": "b9ea7e41",
   "metadata": {},
   "outputs": [
    {
     "name": "stdout",
     "output_type": "stream",
     "text": [
      "Mean Training Score: 66.64%\n",
      "Mean Test Score: 69.85%\n",
      "Best Parameter Combination Found During Grid Search:\n"
     ]
    },
    {
     "data": {
      "text/plain": [
       "{'criterion': 'gini',\n",
       " 'max_depth': None,\n",
       " 'min_samples_leaf': 2,\n",
       " 'min_samples_split': 10}"
      ]
     },
     "execution_count": 42,
     "metadata": {},
     "output_type": "execute_result"
    }
   ],
   "source": [
    "# Mean training score\n",
    "dt_gs_training_score = np.mean(dt_grid_search.cv_results_[\"mean_train_score\"])\n",
    "\n",
    "# Mean test score\n",
    "dt_gs_testing_score = dt_grid_search.score(data_test, target_test)\n",
    "\n",
    "print(f\"Mean Training Score: {dt_gs_training_score :.2%}\")\n",
    "print(f\"Mean Test Score: {dt_gs_testing_score :.2%}\")\n",
    "print(\"Best Parameter Combination Found During Grid Search:\")\n",
    "dt_grid_search.best_params_"
   ]
  },
  {
   "cell_type": "markdown",
   "id": "03ee6df1",
   "metadata": {},
   "source": [
    "### Confusion Matrix\n",
    "\n",
    "The confusion matrix showed results in line with the baseline model. There was one less False Negative with the results beign 3243 compared to 3244. "
   ]
  },
  {
   "cell_type": "code",
   "execution_count": 43,
   "id": "b6c38bb8",
   "metadata": {},
   "outputs": [],
   "source": [
    "grid_pred = dt_grid_search.predict(data_test)"
   ]
  },
  {
   "cell_type": "code",
   "execution_count": 44,
   "id": "0c650baa",
   "metadata": {},
   "outputs": [
    {
     "data": {
      "image/png": "[encoded data removed]",
      "text/plain": [
       "<Figure size 640x480 with 2 Axes>"
      ]
     },
     "metadata": {},
     "output_type": "display_data"
    }
   ],
   "source": [
    "confusion_matrix = metrics.confusion_matrix(target_test, grid_pred)\n",
    "cm_display = metrics.ConfusionMatrixDisplay(confusion_matrix = confusion_matrix, display_labels = [False, True])\n",
    "cm_display.plot()\n",
    "plt.show()"
   ]
  },
  {
   "cell_type": "markdown",
   "id": "bbda82be",
   "metadata": {},
   "source": [
    "### Classification Report\n",
    "There are no changes in the classification report. "
   ]
  },
  {
   "cell_type": "code",
   "execution_count": 45,
   "id": "04ef55ef",
   "metadata": {},
   "outputs": [
    {
     "name": "stdout",
     "output_type": "stream",
     "text": [
      "              precision    recall  f1-score   support\n",
      "\n",
      "           0       0.67      0.85      0.75      7963\n",
      "           1       0.75      0.53      0.62      6887\n",
      "\n",
      "    accuracy                           0.70     14850\n",
      "   macro avg       0.71      0.69      0.68     14850\n",
      "weighted avg       0.71      0.70      0.69     14850\n",
      "\n"
     ]
    }
   ],
   "source": [
    "print(classification_report(target_test, grid_pred))"
   ]
  },
  {
   "cell_type": "markdown",
   "id": "6f70eb85",
   "metadata": {},
   "source": [
    "## Model 3: Random Forest Model with Grid Search \n",
    "\n",
    "The next model uses Grid Search with Random Forests that aggregates multiple decision trees and potentially mitigate the risk of individual trees making biased predictions. \n",
    "\n",
    "The Grid Search for Random Forest had different optimal parameters, prefering a criterion of entropy instead of gini and min samples leaf of 3 instead of 2. \n",
    "\n",
    "Using Random Forest didn't improve the overall accuracy of the model significantly, but the precision score for 1 values increased by 1% -- from 75% to 76%, while Recall dropped by 1%. With these changes, False Negatives increased from 3,243 to 3,327. "
   ]
  },
  {
   "cell_type": "code",
   "execution_count": 46,
   "id": "6f11ea30",
   "metadata": {},
   "outputs": [],
   "source": [
    "rf_clf = RandomForestClassifier()"
   ]
  },
  {
   "cell_type": "code",
   "execution_count": 47,
   "id": "d9cd1273",
   "metadata": {},
   "outputs": [],
   "source": [
    "rf_param_grid = {\n",
    "    \"n_estimators\": [10, 30, 100],\n",
    "    \"criterion\": [\"gini\", \"entropy\"],\n",
    "    \"max_depth\": [None, 2, 6, 10, 18],\n",
    "    \"min_samples_split\": [5, 10],\n",
    "    \"min_samples_leaf\": [3, 6],\n",
    "}"
   ]
  },
  {
   "cell_type": "code",
   "execution_count": 48,
   "id": "92b3ac5b",
   "metadata": {},
   "outputs": [
    {
     "name": "stdout",
     "output_type": "stream",
     "text": [
      "Training Accuracy: 69.63%\n",
      "\n",
      "Optimal Parameters: {'criterion': 'entropy', 'max_depth': None, 'min_samples_leaf': 3, 'min_samples_split': 10, 'n_estimators': 30}\n"
     ]
    }
   ],
   "source": [
    "rf_grid_search = GridSearchCV(rf_clf, rf_param_grid, cv=3)\n",
    "rf_grid_search.fit(data_train, target_train)\n",
    "\n",
    "print(f\"Training Accuracy: {rf_grid_search.best_score_ :.2%}\")\n",
    "print(\"\")\n",
    "print(f\"Optimal Parameters: {rf_grid_search.best_params_}\")"
   ]
  },
  {
   "cell_type": "markdown",
   "id": "35430bda",
   "metadata": {},
   "source": [
    "### Confusion Matrix\n",
    "After running gridsearch and adding the hyperparameters, there is 84 more false negatives than the baseline model. "
   ]
  },
  {
   "cell_type": "code",
   "execution_count": 49,
   "id": "311e3094",
   "metadata": {},
   "outputs": [],
   "source": [
    "rf_grid_pred = rf_grid_search.predict(data_test)"
   ]
  },
  {
   "cell_type": "code",
   "execution_count": 50,
   "id": "063ae358",
   "metadata": {},
   "outputs": [
    {
     "data": {
      "image/png": "[encoded data removed]",
      "text/plain": [
       "<Figure size 640x480 with 2 Axes>"
      ]
     },
     "metadata": {},
     "output_type": "display_data"
    }
   ],
   "source": [
    "confusion_matrix = metrics.confusion_matrix(target_test, rf_grid_pred)\n",
    "cm_display = metrics.ConfusionMatrixDisplay(confusion_matrix = confusion_matrix, display_labels = [False, True])\n",
    "cm_display.plot()\n",
    "plt.show()"
   ]
  },
  {
   "cell_type": "markdown",
   "id": "cfa0b261",
   "metadata": {},
   "source": [
    "### Classification Report\n",
    "There were no major changes in the classification report, but recall for non-functional fountains was down by 1 percentage point while precision was up by 1 percentage point. "
   ]
  },
  {
   "cell_type": "code",
   "execution_count": 51,
   "id": "2a3736f6",
   "metadata": {},
   "outputs": [
    {
     "name": "stdout",
     "output_type": "stream",
     "text": [
      "              precision    recall  f1-score   support\n",
      "\n",
      "           0       0.67      0.86      0.75      7963\n",
      "           1       0.76      0.52      0.61      6887\n",
      "\n",
      "    accuracy                           0.70     14850\n",
      "   macro avg       0.72      0.69      0.68     14850\n",
      "weighted avg       0.71      0.70      0.69     14850\n",
      "\n"
     ]
    }
   ],
   "source": [
    "print(classification_report(target_test, rf_grid_pred))"
   ]
  },
  {
   "cell_type": "markdown",
   "id": "767f5c24",
   "metadata": {},
   "source": [
    "## Evaluating and Selecting the best model\n",
    "\n",
    "All three models exhibit similar performance, with the Random Forest Model slightly outperforming the baseline and decision tree grid search models in accuracy. \n",
    "\n",
    "In terms of False Negatives, the Decision Tree Model demonstrates the lowest count. Given that False Negatives present a more significant concern for both the NGO and the community, <b> I have chosen the Decision Tree Model as the final choice. </b> This decision ensures a balance between accuracy and minimizing False Negatives."
   ]
  },
  {
   "cell_type": "code",
   "execution_count": 60,
   "id": "f28b1a19",
   "metadata": {},
   "outputs": [
    {
     "name": "stdout",
     "output_type": "stream",
     "text": [
      "Baseline Score: 0.6979124579124579 False Negatives: 3244\n",
      "Decision tree grid search Score: 0.6985185185185185 False Negatives: 3243\n",
      "Random forest grid search Score: 0.6993939393939393 False Negatives: 3327\n"
     ]
    }
   ],
   "source": [
    "# Calculate confusion matrices for each model\n",
    "base_conf_matrix = confusion_matrix(target_test, pred)\n",
    "dt_conf_matrix = confusion_matrix(target_test, grid_pred)\n",
    "rf_conf_matrix = confusion_matrix(target_test, rf_grid_pred)\n",
    "\n",
    "# Calculate false negatives from confusion matrices\n",
    "grid_false_negatives = base_conf_matrix[1, 0] # False negatives are in the second row, first column\n",
    "dt_false_negatives = dt_conf_matrix[1, 0] \n",
    "rf_false_negatives = rf_conf_matrix[1, 0]\n",
    "\n",
    "# Calculate scores\n",
    "base_score = tree_clf.score(data_test, target_test)\n",
    "dt_score = dt_grid_search.score(data_test, target_test)\n",
    "rf_score = rf_grid_search.score(data_test, target_test)\n",
    "\n",
    "# Print scores and false negative counts\n",
    "print(\"Baseline Score:\", base_score, \"False Negatives:\", grid_false_negatives)\n",
    "print(\"Decision tree grid search Score:\", dt_score, \"False Negatives:\", dt_false_negatives)\n",
    "print(\"Random forest grid search Score:\", rf_score, \"False Negatives:\", rf_false_negatives)\n"
   ]
  },
  {
   "cell_type": "markdown",
   "id": "f52a265e",
   "metadata": {},
   "source": [
    "## Results and Recommendations\n",
    "\n",
    "By outputing the features importance in the df below, I have identified these 4 recommedations for areas the NGO can focus it's resources: \n",
    "\n",
    "1. **Waterpoint Types Demand Attention:**\n",
    "   Prioritize investigation and action regarding waterpoint types, especially communal standpipes, to uncover operational challenges and maintenance needs. These types exhibit higher predictive importance, suggesting that addressing issues specific to them can enhance water pump effectiveness.\n",
    "\n",
    "2. **Renew Focus on Older Pumps:**\n",
    "   Given the substantial impact of construction year on pump effectiveness, concentrate efforts on maintaining, repairing, or replacing older water pumps. This will mitigate the risks associated with aging infrastructure and ensure consistent water access.\n",
    "\n",
    "3. **Quality Assurance for Safe Water:**\n",
    "   Elevate water quality monitoring, particularly for points where the quality is currently unknown or soft. Emphasize rigorous testing and quality control measures to safeguard water safety, meeting the critical need for reliable and uncontaminated water sources.\n",
    "\n",
    "4. **Optimize Key Extraction Techniques:**\n",
    "   Optimize the functionality of water pumps that use handpumps or gravity as the method for extraction as their significance suggests their direct impact on pump efficiency. Streamline maintenance practices and periodic checks to ensure these widely used techniques operate effectively."
   ]
  },
  {
   "cell_type": "code",
   "execution_count": 66,
   "id": "199b97bd",
   "metadata": {},
   "outputs": [
    {
     "data": {
      "text/html": [
       "<div>\n",
       "<style scoped>\n",
       "    .dataframe tbody tr th:only-of-type {\n",
       "        vertical-align: middle;\n",
       "    }\n",
       "\n",
       "    .dataframe tbody tr th {\n",
       "        vertical-align: top;\n",
       "    }\n",
       "\n",
       "    .dataframe thead th {\n",
       "        text-align: right;\n",
       "    }\n",
       "</style>\n",
       "<table border=\"1\" class=\"dataframe\">\n",
       "  <thead>\n",
       "    <tr style=\"text-align: right;\">\n",
       "      <th></th>\n",
       "      <th>Feature</th>\n",
       "      <th>Importance</th>\n",
       "    </tr>\n",
       "  </thead>\n",
       "  <tbody>\n",
       "    <tr>\n",
       "      <th>24</th>\n",
       "      <td>waterpoint_type_other</td>\n",
       "      <td>0.295629</td>\n",
       "    </tr>\n",
       "    <tr>\n",
       "      <th>0</th>\n",
       "      <td>construction_year</td>\n",
       "      <td>0.294183</td>\n",
       "    </tr>\n",
       "    <tr>\n",
       "      <th>20</th>\n",
       "      <td>waterpoint_type_communal standpipe multiple</td>\n",
       "      <td>0.061596</td>\n",
       "    </tr>\n",
       "    <tr>\n",
       "      <th>32</th>\n",
       "      <td>water_quality_unknown</td>\n",
       "      <td>0.039295</td>\n",
       "    </tr>\n",
       "    <tr>\n",
       "      <th>2</th>\n",
       "      <td>extraction_type_class_handpump</td>\n",
       "      <td>0.029238</td>\n",
       "    </tr>\n",
       "    <tr>\n",
       "      <th>19</th>\n",
       "      <td>waterpoint_type_communal standpipe</td>\n",
       "      <td>0.025333</td>\n",
       "    </tr>\n",
       "    <tr>\n",
       "      <th>1</th>\n",
       "      <td>extraction_type_class_gravity</td>\n",
       "      <td>0.025157</td>\n",
       "    </tr>\n",
       "    <tr>\n",
       "      <th>4</th>\n",
       "      <td>extraction_type_class_other</td>\n",
       "      <td>0.023885</td>\n",
       "    </tr>\n",
       "    <tr>\n",
       "      <th>31</th>\n",
       "      <td>water_quality_soft</td>\n",
       "      <td>0.023559</td>\n",
       "    </tr>\n",
       "    <tr>\n",
       "      <th>16</th>\n",
       "      <td>source_spring</td>\n",
       "      <td>0.020417</td>\n",
       "    </tr>\n",
       "    <tr>\n",
       "      <th>6</th>\n",
       "      <td>extraction_type_class_submersible</td>\n",
       "      <td>0.017510</td>\n",
       "    </tr>\n",
       "    <tr>\n",
       "      <th>11</th>\n",
       "      <td>source_machine dbh</td>\n",
       "      <td>0.017040</td>\n",
       "    </tr>\n",
       "    <tr>\n",
       "      <th>13</th>\n",
       "      <td>source_rainwater harvesting</td>\n",
       "      <td>0.015666</td>\n",
       "    </tr>\n",
       "    <tr>\n",
       "      <th>14</th>\n",
       "      <td>source_river</td>\n",
       "      <td>0.015495</td>\n",
       "    </tr>\n",
       "    <tr>\n",
       "      <th>22</th>\n",
       "      <td>waterpoint_type_hand pump</td>\n",
       "      <td>0.012663</td>\n",
       "    </tr>\n",
       "    <tr>\n",
       "      <th>29</th>\n",
       "      <td>water_quality_salty</td>\n",
       "      <td>0.012139</td>\n",
       "    </tr>\n",
       "    <tr>\n",
       "      <th>10</th>\n",
       "      <td>source_lake</td>\n",
       "      <td>0.008992</td>\n",
       "    </tr>\n",
       "    <tr>\n",
       "      <th>3</th>\n",
       "      <td>extraction_type_class_motorpump</td>\n",
       "      <td>0.008876</td>\n",
       "    </tr>\n",
       "    <tr>\n",
       "      <th>8</th>\n",
       "      <td>source_dam</td>\n",
       "      <td>0.007916</td>\n",
       "    </tr>\n",
       "    <tr>\n",
       "      <th>15</th>\n",
       "      <td>source_shallow well</td>\n",
       "      <td>0.007527</td>\n",
       "    </tr>\n",
       "    <tr>\n",
       "      <th>28</th>\n",
       "      <td>water_quality_milky</td>\n",
       "      <td>0.006828</td>\n",
       "    </tr>\n",
       "    <tr>\n",
       "      <th>12</th>\n",
       "      <td>source_other</td>\n",
       "      <td>0.004869</td>\n",
       "    </tr>\n",
       "    <tr>\n",
       "      <th>5</th>\n",
       "      <td>extraction_type_class_rope pump</td>\n",
       "      <td>0.004251</td>\n",
       "    </tr>\n",
       "    <tr>\n",
       "      <th>26</th>\n",
       "      <td>water_quality_fluoride</td>\n",
       "      <td>0.003827</td>\n",
       "    </tr>\n",
       "    <tr>\n",
       "      <th>30</th>\n",
       "      <td>water_quality_salty abandoned</td>\n",
       "      <td>0.003700</td>\n",
       "    </tr>\n",
       "    <tr>\n",
       "      <th>17</th>\n",
       "      <td>source_unknown</td>\n",
       "      <td>0.003008</td>\n",
       "    </tr>\n",
       "    <tr>\n",
       "      <th>25</th>\n",
       "      <td>water_quality_coloured</td>\n",
       "      <td>0.002892</td>\n",
       "    </tr>\n",
       "    <tr>\n",
       "      <th>9</th>\n",
       "      <td>source_hand dtw</td>\n",
       "      <td>0.002801</td>\n",
       "    </tr>\n",
       "    <tr>\n",
       "      <th>23</th>\n",
       "      <td>waterpoint_type_improved spring</td>\n",
       "      <td>0.002128</td>\n",
       "    </tr>\n",
       "    <tr>\n",
       "      <th>7</th>\n",
       "      <td>extraction_type_class_wind-powered</td>\n",
       "      <td>0.002124</td>\n",
       "    </tr>\n",
       "    <tr>\n",
       "      <th>18</th>\n",
       "      <td>waterpoint_type_cattle trough</td>\n",
       "      <td>0.001190</td>\n",
       "    </tr>\n",
       "    <tr>\n",
       "      <th>27</th>\n",
       "      <td>water_quality_fluoride abandoned</td>\n",
       "      <td>0.000266</td>\n",
       "    </tr>\n",
       "    <tr>\n",
       "      <th>21</th>\n",
       "      <td>waterpoint_type_dam</td>\n",
       "      <td>0.000000</td>\n",
       "    </tr>\n",
       "  </tbody>\n",
       "</table>\n",
       "</div>"
      ],
      "text/plain": [
       "                                        Feature  Importance\n",
       "24                        waterpoint_type_other    0.295629\n",
       "0                             construction_year    0.294183\n",
       "20  waterpoint_type_communal standpipe multiple    0.061596\n",
       "32                        water_quality_unknown    0.039295\n",
       "2                extraction_type_class_handpump    0.029238\n",
       "19           waterpoint_type_communal standpipe    0.025333\n",
       "1                 extraction_type_class_gravity    0.025157\n",
       "4                   extraction_type_class_other    0.023885\n",
       "31                           water_quality_soft    0.023559\n",
       "16                                source_spring    0.020417\n",
       "6             extraction_type_class_submersible    0.017510\n",
       "11                           source_machine dbh    0.017040\n",
       "13                  source_rainwater harvesting    0.015666\n",
       "14                                 source_river    0.015495\n",
       "22                    waterpoint_type_hand pump    0.012663\n",
       "29                          water_quality_salty    0.012139\n",
       "10                                  source_lake    0.008992\n",
       "3               extraction_type_class_motorpump    0.008876\n",
       "8                                    source_dam    0.007916\n",
       "15                          source_shallow well    0.007527\n",
       "28                          water_quality_milky    0.006828\n",
       "12                                 source_other    0.004869\n",
       "5               extraction_type_class_rope pump    0.004251\n",
       "26                       water_quality_fluoride    0.003827\n",
       "30                water_quality_salty abandoned    0.003700\n",
       "17                               source_unknown    0.003008\n",
       "25                       water_quality_coloured    0.002892\n",
       "9                               source_hand dtw    0.002801\n",
       "23              waterpoint_type_improved spring    0.002128\n",
       "7            extraction_type_class_wind-powered    0.002124\n",
       "18                waterpoint_type_cattle trough    0.001190\n",
       "27             water_quality_fluoride abandoned    0.000266\n",
       "21                          waterpoint_type_dam    0.000000"
      ]
     },
     "execution_count": 66,
     "metadata": {},
     "output_type": "execute_result"
    }
   ],
   "source": [
    "def get_feature_importances(model, feature_names):\n",
    "    feature_importances = model.feature_importances_\n",
    "    importance_df = pd.DataFrame({'Feature': feature_names, 'Importance': feature_importances})\n",
    "    importance_df = importance_df.sort_values(by='Importance', ascending=False)\n",
    "    return importance_df\n",
    "\n",
    "def extract_feature_importances(model, feature_names):\n",
    "    importance_df = get_feature_importances(model, feature_names)\n",
    "    return importance_df\n",
    "\n",
    "feature_names = data_train.columns.values\n",
    "importance_df = extract_feature_importances(tree_clf, feature_names)\n",
    "importance_df"
   ]
  },
  {
   "cell_type": "markdown",
   "id": "f1079ce2",
   "metadata": {},
   "source": [
    "## Limitations & Potential Solutions for Next Steps"
   ]
  },
  {
   "cell_type": "markdown",
   "id": "4b1c2e54",
   "metadata": {},
   "source": [
    "The classifier developed for this project exhibits a moderate accuracy of 70%. The following limitations could have influenced this accuracy score and should be troubleshooted if the project ever continued: \n",
    "\n",
    "<b> Class Imbalance: </b> The presence of a slight class imbalance in the data set (more functional waterpumps than non-functional)could lead to biased predictions, as the model might favor functional class. This could have resulted in underperforming for the minority class which was observed in the precision score for each model which was lower for the non-functional pumps.\n",
    "\n",
    "<b> Categorical Variables: </b> The conversion of categorical variables into binary dummy variables simplified the modeling process, but could have led to valuable information and potentially introduced multicollinearity.\n",
    "\n",
    "Potential Solutions for Next Steps:\n",
    "\n",
    "<b> Oversampling techniques: </b> Increase the size of the minority class through oversampling techniques like SMOTE (Synthetic Minority Over-sampling Technique) or undersampling the majority class. \n",
    "\n",
    "<b> Advanced Encoding: </b> Explore more advanced encoding methods, such as target encoding to transform categorical variables into numerical values based on the target variable's mean (or other aggregation functions). This could help capture underlying relationships better than binary encoding.\n",
    "\n",
    "<b> Collect More Data: </b> If feasible, gather more data to enrich the model's training set. More data can help the model generalize better to different scenarios."
   ]
  },
  {
   "cell_type": "code",
   "execution_count": null,
   "id": "4fbba7ac",
   "metadata": {},
   "outputs": [],
   "source": []
  }
 ],
 "metadata": {
  "kernelspec": {
   "display_name": "Python 3 (ipykernel)",
   "language": "python",
   "name": "python3"
  },
  "language_info": {
   "codemirror_mode": {
    "name": "ipython",
    "version": 3
   },
   "file_extension": ".py",
   "mimetype": "text/x-python",
   "name": "python",
   "nbconvert_exporter": "python",
   "pygments_lexer": "ipython3",
   "version": "3.9.13"
  }
 },
 "nbformat": 4,
 "nbformat_minor": 5
}
